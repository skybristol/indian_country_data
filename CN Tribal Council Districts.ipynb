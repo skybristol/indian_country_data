{
 "cells": [
  {
   "cell_type": "markdown",
   "metadata": {},
   "source": [
    "The notebook instantiates the initial 16 items that will represent Cherokee Nation Tribal Council districts (15 on the reservation plus the at-large district) in Wikidata. These came up as a need in documenting Cherokee Nation elected officials, but having them as identities will help in other linked data work.\n",
    "\n",
    "The concept of [electoral district](https://www.wikidata.org/wiki/Q192611) already exists in Wikidata. I added a specific subclass, [electoral district of the Cherokee Nation](https://www.wikidata.org/wiki/Q122976289) following the pattern of other subclasses in other governments.\n",
    "\n",
    "CN Districts were most recently established under the Cherokee Nation Constitition of 1999 to include 15 on-reservation districts and the at-large district. I have not yet tracked down when and how any geographic boundary changes have occurred since that time, but I have found online data defining the current boundaries via the advertised [CN maps](https://www.cherokee.org/About-The-Nation/Maps).\n",
    "\n",
    "An item I created, [Constitution of the Cherokee Nation](https://www.wikidata.org/wiki/Q122945957), serves as part of the reference for the district items. I still need to work out how to represent the data source (GIS data service in the CN ArcGIS Enterprise instance) along with the code that does the work.\n",
    "\n",
    "One thing I am exploring here is how best to represent the cultural dynamics of the Cherokee Nation Tribal Council, whose current members evidence a great deal of connectedness to the communities in their districts and a remarkable level of openness. Cherokee values are evident in the proceedings of the Council online through the Cherokee Nation YouTube channel and the Council's playlists (full council meetings and committees) and in [online documentation](https://cherokee.legistar.com/Legislation.aspx) going clear back to 1976. I want to reflect this through the organization of structured data, particularly in the connection to communities within the Districts and their constituents, which extend well beyond CN citizens in terms of the benefits from CN governance."
   ]
  },
  {
   "cell_type": "code",
   "execution_count": 1,
   "metadata": {},
   "outputs": [],
   "source": [
    "import geopandas as gpd\n",
    "import pandas as pd\n",
    "import requests\n",
    "from shapely.geometry import Point\n",
    "import osmnx as ox\n",
    "import matplotlib.pyplot as plt\n",
    "from matplotlib.offsetbox import OffsetImage, AnnotationBbox\n"
   ]
  },
  {
   "cell_type": "markdown",
   "metadata": {},
   "source": [
    "# GIS Data from the Cherokee Nation\n",
    "Digging behind the scenes on what was driving the couple of advertised maps from the Cherokee Nation web site, I found an ArcGIS Enterprise instance with an available gallery of data and maps. I need to clarify licensing on the data so that I can determine what I can use and any limitations on producing derivatives. The following codeblock pulls the Cherokee Nation reservation boundary and the Tribal Council Districts."
   ]
  },
  {
   "cell_type": "code",
   "execution_count": 2,
   "metadata": {},
   "outputs": [],
   "source": [
    "cn_boundary_query = \"https://vmgis4.cherokee.org/server/rest/services/Council_Districts_MIL1/MapServer/1/query?where=1%3D1&text=&objectIds=&time=&geometry=&geometryType=esriGeometryEnvelope&inSR=&spatialRel=esriSpatialRelIntersects&relationParam=&outFields=*&returnGeometry=true&returnTrueCurves=false&maxAllowableOffset=&geometryPrecision=&outSR=&having=&returnIdsOnly=false&returnCountOnly=false&orderByFields=&groupByFieldsForStatistics=&outStatistics=&returnZ=false&returnM=false&gdbVersion=&historicMoment=&returnDistinctValues=false&resultOffset=&resultRecordCount=&queryByDistance=&returnExtentOnly=false&datumTransformation=&parameterValues=&rangeValues=&quantizationParameters=&f=geojson\"\n",
    "cn_boundary = gpd.read_file(cn_boundary_query)\n",
    "\n",
    "cn_districts_agis_query = \"https://vmgis4.cherokee.org/server/rest/services/Council_Districts_MIL1/MapServer/0/query?where=1%3D1&text=&objectIds=&time=&geometry=&geometryType=esriGeometryEnvelope&inSR=&spatialRel=esriSpatialRelIntersects&relationParam=&outFields=*&returnGeometry=true&returnTrueCurves=false&maxAllowableOffset=&geometryPrecision=&outSR=&having=&returnIdsOnly=false&returnCountOnly=false&orderByFields=&groupByFieldsForStatistics=&outStatistics=&returnZ=false&returnM=false&gdbVersion=&historicMoment=&returnDistinctValues=false&resultOffset=&resultRecordCount=&queryByDistance=&returnExtentOnly=false&datumTransformation=&parameterValues=&rangeValues=&quantizationParameters=&f=geojson\"\n",
    "cn_districts = gpd.read_file(cn_districts_agis_query)\n",
    "\n",
    "cn_districts['coord_location'] = cn_districts['geometry'].apply(lambda x: x.centroid if x else None)\n",
    "cn_districts['lat'] = cn_districts['coord_location'].apply(lambda x: x.y if x else None)\n",
    "cn_districts['lon'] = cn_districts['coord_location'].apply(lambda x: x.x if x else None)"
   ]
  },
  {
   "cell_type": "markdown",
   "metadata": {},
   "source": [
    "# Significant Place\n",
    "I would like the items representing CN electoral districts for Tribal Councilors to link the cities/towns that are a part of the district to help in future linking activity for things like community development projects (water infrastructure, etc.). To identify these, I pull a set of \"human settlement\" items from Wikidata that are a) within OK counties and b) have point coordinates. I set these up as a geodataframe and run a join between the CN district boundaries and the coordinates for the city/town items.\n",
    "\n",
    "A reasonable property to use for this is the somewhat generic, significant place (P7153) property, that denotes some type of significant place to/for a subject. In this case, this will represent a municipality that is significant as a population center for constituents within a district.\n",
    "\n",
    "This is in keeping with what I see as a core Cherokee value exhibited by Tribal Council members regularly in their online meetings and written record - focusing on our people and communities with actions to promote health, wellbeing, and prosperity."
   ]
  },
  {
   "cell_type": "code",
   "execution_count": 3,
   "metadata": {},
   "outputs": [],
   "source": [
    "# Query for all towns in Oklahoma\n",
    "query_ok_towns = \"\"\"\n",
    "SELECT ?item ?itemLabel ?coord\n",
    "WHERE {\n",
    "  ?ok_county wdt:P31 wd:Q13414760 .\n",
    "  ?human_settlement_classes wdt:P279* wd:Q486972 .\n",
    "  ?item wdt:P131 ?ok_county ;\n",
    "        wdt:P31 ?human_settlement_classes ;\n",
    "        wdt:P625 ?coord .\n",
    "  SERVICE wikibase:label { bd:serviceParam wikibase:language \"en\". }\n",
    "}\n",
    "\"\"\"\n",
    "\n",
    "r_ok_towns = requests.get(\n",
    "    'https://query.wikidata.org/sparql',\n",
    "    params = {'format': 'json', 'query': query_ok_towns}\n",
    ")\n",
    "\n",
    "# Set towns up in dataframe and convert to geodataframe\n",
    "df_ok_towns = pd.json_normalize(r_ok_towns.json()['results']['bindings'])\n",
    "df_ok_towns.rename(columns = {'item.value': 'item', 'itemLabel.value': 'itemLabel', 'coord.value': 'coord'}, inplace = True)\n",
    "df_ok_towns['item'] = df_ok_towns['item'].str.replace('http://www.wikidata.org/entity/', '')\n",
    "df_ok_towns['coord'] = df_ok_towns['coord'].apply(lambda x: x.split('(')[-1]).apply(lambda x: x.split(')')[0])\n",
    "df_ok_towns.dropna(subset='coord.datatype', inplace=True)\n",
    "df_ok_towns = df_ok_towns[['item', 'itemLabel', 'coord']]\n",
    "df_ok_towns['x'] = df_ok_towns['coord'].apply(lambda x: float(x.split(' ')[0]))\n",
    "df_ok_towns['y'] = df_ok_towns['coord'].apply(lambda x: float(x.split(' ')[1]))\n",
    "df_ok_towns.drop(columns='coord', inplace=True)\n",
    "\n",
    "geometry_ok_towns = [Point(xy) for xy in zip(df_ok_towns['x'], df_ok_towns['y'])]\n",
    "gdf_ok_towns = gpd.GeoDataFrame(df_ok_towns, geometry=geometry_ok_towns, crs='EPSG:4326')"
   ]
  },
  {
   "cell_type": "markdown",
   "metadata": {},
   "source": [
    "Once we have all towns in Oklahoma (at least those with point coordinates), we can filter to the towns that are within the Cherokee Nation and then spatially join on the Tribal Council District boundaries to get a list of the Wikidata items representing municipalities within each District that can be added as \"significant place\" claims on those items."
   ]
  },
  {
   "cell_type": "code",
   "execution_count": 4,
   "metadata": {},
   "outputs": [
    {
     "data": {
      "text/html": [
       "<div>\n",
       "<style scoped>\n",
       "    .dataframe tbody tr th:only-of-type {\n",
       "        vertical-align: middle;\n",
       "    }\n",
       "\n",
       "    .dataframe tbody tr th {\n",
       "        vertical-align: top;\n",
       "    }\n",
       "\n",
       "    .dataframe thead th {\n",
       "        text-align: right;\n",
       "    }\n",
       "</style>\n",
       "<table border=\"1\" class=\"dataframe\">\n",
       "  <thead>\n",
       "    <tr style=\"text-align: right;\">\n",
       "      <th></th>\n",
       "      <th>District</th>\n",
       "      <th>item</th>\n",
       "    </tr>\n",
       "  </thead>\n",
       "  <tbody>\n",
       "    <tr>\n",
       "      <th>0</th>\n",
       "      <td>D1</td>\n",
       "      <td>[Q122554734, Q5884893, Q5879375, Q5879375, Q33...</td>\n",
       "    </tr>\n",
       "    <tr>\n",
       "      <th>1</th>\n",
       "      <td>D10</td>\n",
       "      <td>[Q122557360, Q122597570, Q14708601, Q3310646, ...</td>\n",
       "    </tr>\n",
       "    <tr>\n",
       "      <th>2</th>\n",
       "      <td>D11</td>\n",
       "      <td>[Q122546608, Q122541477, Q1942878, Q122572995,...</td>\n",
       "    </tr>\n",
       "    <tr>\n",
       "      <th>3</th>\n",
       "      <td>D12</td>\n",
       "      <td>[Q2549541, Q122546051, Q809450, Q809450, Q2620...</td>\n",
       "    </tr>\n",
       "    <tr>\n",
       "      <th>4</th>\n",
       "      <td>D13</td>\n",
       "      <td>[Q122573019, Q122573019, Q1865211, Q122573019,...</td>\n",
       "    </tr>\n",
       "  </tbody>\n",
       "</table>\n",
       "</div>"
      ],
      "text/plain": [
       "  District                                               item\n",
       "0       D1  [Q122554734, Q5884893, Q5879375, Q5879375, Q33...\n",
       "1      D10  [Q122557360, Q122597570, Q14708601, Q3310646, ...\n",
       "2      D11  [Q122546608, Q122541477, Q1942878, Q122572995,...\n",
       "3      D12  [Q2549541, Q122546051, Q809450, Q809450, Q2620...\n",
       "4      D13  [Q122573019, Q122573019, Q1865211, Q122573019,..."
      ]
     },
     "execution_count": 4,
     "metadata": {},
     "output_type": "execute_result"
    }
   ],
   "source": [
    "towns_districts = gpd.sjoin(\n",
    "    gdf_ok_towns, \n",
    "    cn_districts[['District','geometry']], \n",
    "    predicate='within'\n",
    ")\n",
    "\n",
    "towns_in_districts = towns_districts.groupby('District', as_index=False)['item'].agg(list)\n",
    "towns_in_districts.head()\n"
   ]
  },
  {
   "cell_type": "markdown",
   "metadata": {},
   "source": [
    "# Representative Images\n",
    "Another interesting thing I want to do once I clear up the issue with licensing on Cherokee Nation data is drop some items in Wikimedia Commons to link to the districts. One thing that would be useful would be to use locator map image (P242) and provide an image of the district within the context of the Cherokee Nation as a whole. I coud also produce a locator image for the Cherokee Nation within the context of the state of Oklahoma. Starting to produce numerous images that start with the overall boundary of the Cherokee Nation as reaffirmed through McGirt would be interesting in itself.\n",
    "\n",
    "In the following codeblocks, I explore how to produce these images using publicly available data along with the CN reservation boundary and the CN Council District boundaries from the CN's ArcGIS Enterprise server."
   ]
  },
  {
   "cell_type": "markdown",
   "metadata": {},
   "source": [
    "## Locator image for the Cherokee Nation\n",
    "The first codeblock produces a locator image that could be used with the Cherokee Nation item."
   ]
  },
  {
   "cell_type": "code",
   "execution_count": 5,
   "metadata": {},
   "outputs": [
    {
     "data": {
      "image/png": "[encoded data removed]",
      "text/plain": [
       "<Figure size 640x480 with 1 Axes>"
      ]
     },
     "metadata": {},
     "output_type": "display_data"
    }
   ],
   "source": [
    "# Access a service to get the OK State boundary as a geodataframe\n",
    "ok = ox.geocode_to_gdf(\"Oklahoma, USA\")\n",
    "\n",
    "ax_ok_cn = ok.plot(color='white', edgecolor='black')\n",
    "cn_boundary.plot(ax=ax_ok_cn, color='#99383B')\n",
    "\n",
    "ax_ok_cn.set_xticks([])\n",
    "ax_ok_cn.set_yticks([])\n",
    "ax_ok_cn.set_xticklabels([])\n",
    "ax_ok_cn.set_yticklabels([])\n",
    "ax_ok_cn.set_frame_on(False)\n",
    "\n",
    "plt.show()"
   ]
  },
  {
   "cell_type": "markdown",
   "metadata": {},
   "source": [
    "## Locator images for each district\n",
    "This codeblock produces a locator image for a Tribal Council District within the context of the Cherokee Nation. I fiddled with the idea of highlighting Tahlequah as the Cherokee Nation Capital on these maps and went back and forth with different ways of representing the districts. I think it would be interesting to fiddle with this idea some more and perhaps develop a whole packet of options to use visually in different types of communication, continually reinforcing the image of the Cherokee Nation as a map."
   ]
  },
  {
   "cell_type": "code",
   "execution_count": 11,
   "metadata": {},
   "outputs": [
    {
     "data": {
      "image/png": "[encoded data removed]",
      "text/plain": [
       "<Figure size 640x480 with 1 Axes>"
      ]
     },
     "metadata": {},
     "output_type": "display_data"
    }
   ],
   "source": [
    "# Get the coordinates for Tahlequah, capital of the Cherokee Nation\n",
    "cn_capital = towns_districts[towns_districts['itemLabel'] == 'Tahlequah'].iloc[0]\n",
    "# Get an image of the Cherokee Nation seal to use as the marker for Tahlequah\n",
    "cn_capital_image = plt.imread('data/cn_seal.png')\n",
    "\n",
    "# Function to plot the image of the seal at the coordinates of Tahlequah\n",
    "def plot_image(x, y, image, ax):\n",
    "    im = OffsetImage(image, zoom=72/ax.figure.dpi)\n",
    "    im.image.axes = ax\n",
    "    ab = AnnotationBbox(im, (x,y), frameon=False, pad=0.0)\n",
    "    ax.add_artist(ab)\n",
    "\n",
    "# Function to plot the district boundary witin the Cherokee Nation and overlay the capital\n",
    "def plot_district(district):\n",
    "    ax_cn = cn_boundary.plot(color='white', edgecolor='black')\n",
    "    all_districts = cn_districts[cn_districts['District'].notnull()]\n",
    "    all_districts.plot(ax=ax_cn, color='white', edgecolor='gray')\n",
    "    d = cn_districts[cn_districts['District'] == district]\n",
    "    d.plot(ax=ax_cn, color='#99383B')\n",
    "\n",
    "    ax_cn.set_xticks([])\n",
    "    ax_cn.set_yticks([])\n",
    "    ax_cn.set_xticklabels([])\n",
    "    ax_cn.set_yticklabels([])\n",
    "    ax_cn.set_frame_on(False)\n",
    "\n",
    "    plot_image(cn_capital['x'], cn_capital['y'], cn_capital_image, ax_cn)\n",
    "\n",
    "# Show a particular district\n",
    "plot_district('D6')\n",
    "plt.show()"
   ]
  },
  {
   "cell_type": "markdown",
   "metadata": {},
   "source": [
    "## District Communities\n",
    "This last idea shows the municipalities/communities plotted within a Tribal Council District, essentially zooming into the District and showing the major population centers. This is another area that would be good to experiment with in different kinds of communication."
   ]
  },
  {
   "cell_type": "code",
   "execution_count": 14,
   "metadata": {},
   "outputs": [
    {
     "data": {
      "image/png": "[encoded data removed]",
      "text/plain": [
       "<Figure size 640x480 with 1 Axes>"
      ]
     },
     "metadata": {},
     "output_type": "display_data"
    }
   ],
   "source": [
    "district_num = 'D3'\n",
    "district = cn_districts[cn_districts['District'] == district_num]\n",
    "ax_dist = district.plot(color='white', edgecolor='black')\n",
    "towns_districts[towns_districts['District'] == district_num].plot(ax=ax_dist, color='#99383B', markersize=10)\n",
    "\n",
    "ax_dist.set_xticks([])\n",
    "ax_dist.set_yticks([])\n",
    "ax_dist.set_xticklabels([])\n",
    "ax_dist.set_yticklabels([])\n",
    "ax_dist.set_frame_on(False)\\\n",
    "\n",
    "plt.show()"
   ]
  },
  {
   "cell_type": "markdown",
   "metadata": {},
   "source": [
    "# Add Districts to Wikidata\n",
    "A barebones representation of the 15 on-reservation Tribal Council Districts will do the following:\n",
    "* set a standardized label and description\n",
    "* make the item as an instance of an \"electoral district of the Cherokee Nation\" (Q122976289)\n",
    "* indicate the country as the USA\n",
    "* place the District within the territorial entity of the Cherokee Nation\n",
    "* use the centroid of the District as a point representation\n",
    "* link municipalities as significant places within the District\n",
    "\n",
    "I will do other work once the District items are established to finish documenting the current (and some former) Council Members. These will have a reciprocal relationship between the person entity and the district entity. I'll add in the locator images to Wikimedia Commons and link those here once I determine that can be done.\n",
    "\n",
    "## At-large\n",
    "The at-large district is a single item that I'll create separately. Here I think it will be interesting to document the [At-large Cherokee Community organizations](https://cherokeesatlarge.org/community-groups/) as distinct Wikidata items. These could be mapped as to their primary gathering locations and used to build a locator image. I'm not sure at this point, though, whether there may be some sensitivities in doing this as I have heard about past tension between on and off reservation dynamics. This would be something to check in with Julia Coates and Johnny Jack Kidwell about."
   ]
  },
  {
   "cell_type": "code",
   "execution_count": 31,
   "metadata": {},
   "outputs": [],
   "source": [
    "import os\n",
    "from wikibaseintegrator import WikibaseIntegrator, wbi_login\n",
    "from wikibaseintegrator.datatypes import Item, GlobeCoordinate\n",
    "from wikibaseintegrator.wbi_config import config as wbi_config\n",
    "\n",
    "wbi_config['USER_AGENT'] = 'Add items representing Cherokee Nation Tribal Council Districts'\n",
    "login_instance = wbi_login.Login(\n",
    "    user=os.environ['WD_BOT_USER'],\n",
    "    password=os.environ['WD_BOT_PASS']\n",
    ")\n",
    "wbi = WikibaseIntegrator(login=login_instance)\n",
    "\n",
    "instance_of_item = 'Q122976289'"
   ]
  },
  {
   "cell_type": "code",
   "execution_count": 21,
   "metadata": {},
   "outputs": [
    {
     "data": {
      "text/html": [
       "<div>\n",
       "<style scoped>\n",
       "    .dataframe tbody tr th:only-of-type {\n",
       "        vertical-align: middle;\n",
       "    }\n",
       "\n",
       "    .dataframe tbody tr th {\n",
       "        vertical-align: top;\n",
       "    }\n",
       "\n",
       "    .dataframe thead th {\n",
       "        text-align: right;\n",
       "    }\n",
       "</style>\n",
       "<table border=\"1\" class=\"dataframe\">\n",
       "  <thead>\n",
       "    <tr style=\"text-align: right;\">\n",
       "      <th></th>\n",
       "      <th>OBJECTID_12</th>\n",
       "      <th>OBJECTID_1</th>\n",
       "      <th>OBJECTID</th>\n",
       "      <th>DIST_ID</th>\n",
       "      <th>DIST_NAME</th>\n",
       "      <th>SHAPE_Leng</th>\n",
       "      <th>District</th>\n",
       "      <th>Count_1</th>\n",
       "      <th>DX_DEV</th>\n",
       "      <th>Count_1_DV</th>\n",
       "      <th>Shape_Le_1</th>\n",
       "      <th>Shape_Length</th>\n",
       "      <th>Shape_Area</th>\n",
       "      <th>geometry</th>\n",
       "      <th>coord_location</th>\n",
       "      <th>lat</th>\n",
       "      <th>lon</th>\n",
       "    </tr>\n",
       "  </thead>\n",
       "  <tbody>\n",
       "    <tr>\n",
       "      <th>2</th>\n",
       "      <td>3</td>\n",
       "      <td>3</td>\n",
       "      <td>32</td>\n",
       "      <td>11</td>\n",
       "      <td>D11</td>\n",
       "      <td>373840.835552</td>\n",
       "      <td>D11</td>\n",
       "      <td>6466</td>\n",
       "      <td>-649</td>\n",
       "      <td>-9.121574</td>\n",
       "      <td>373840.836130</td>\n",
       "      <td>373840.836130</td>\n",
       "      <td>2.948319e+09</td>\n",
       "      <td>POLYGON ((-95.71087 36.99927, -95.72827 36.999...</td>\n",
       "      <td>POINT (-95.29626 36.75037)</td>\n",
       "      <td>36.750366</td>\n",
       "      <td>-95.296260</td>\n",
       "    </tr>\n",
       "    <tr>\n",
       "      <th>3</th>\n",
       "      <td>4</td>\n",
       "      <td>4</td>\n",
       "      <td>45</td>\n",
       "      <td>1</td>\n",
       "      <td>D1</td>\n",
       "      <td>369618.418165</td>\n",
       "      <td>D1</td>\n",
       "      <td>6776</td>\n",
       "      <td>-339</td>\n",
       "      <td>-4.764582</td>\n",
       "      <td>369618.417535</td>\n",
       "      <td>369618.417535</td>\n",
       "      <td>7.072252e+08</td>\n",
       "      <td>MULTIPOLYGON (((-95.09199 36.07559, -95.09315 ...</td>\n",
       "      <td>POINT (-95.17455 35.94851)</td>\n",
       "      <td>35.948505</td>\n",
       "      <td>-95.174549</td>\n",
       "    </tr>\n",
       "    <tr>\n",
       "      <th>4</th>\n",
       "      <td>5</td>\n",
       "      <td>5</td>\n",
       "      <td>47</td>\n",
       "      <td>3</td>\n",
       "      <td>D3</td>\n",
       "      <td>312903.103410</td>\n",
       "      <td>D3</td>\n",
       "      <td>6553</td>\n",
       "      <td>-562</td>\n",
       "      <td>-7.898805</td>\n",
       "      <td>312903.102910</td>\n",
       "      <td>312903.102910</td>\n",
       "      <td>7.592667e+08</td>\n",
       "      <td>MULTIPOLYGON (((-94.91401 35.91591, -94.91399 ...</td>\n",
       "      <td>POINT (-94.96339 35.76739)</td>\n",
       "      <td>35.767392</td>\n",
       "      <td>-94.963389</td>\n",
       "    </tr>\n",
       "    <tr>\n",
       "      <th>5</th>\n",
       "      <td>6</td>\n",
       "      <td>6</td>\n",
       "      <td>50</td>\n",
       "      <td>5</td>\n",
       "      <td>D5</td>\n",
       "      <td>357817.580159</td>\n",
       "      <td>D5</td>\n",
       "      <td>7731</td>\n",
       "      <td>616</td>\n",
       "      <td>8.657765</td>\n",
       "      <td>357817.580680</td>\n",
       "      <td>357817.580680</td>\n",
       "      <td>9.991490e+08</td>\n",
       "      <td>MULTIPOLYGON (((-95.12727 35.73064, -95.12732 ...</td>\n",
       "      <td>POINT (-95.02385 35.53974)</td>\n",
       "      <td>35.539736</td>\n",
       "      <td>-95.023850</td>\n",
       "    </tr>\n",
       "    <tr>\n",
       "      <th>6</th>\n",
       "      <td>7</td>\n",
       "      <td>7</td>\n",
       "      <td>51</td>\n",
       "      <td>6</td>\n",
       "      <td>D6</td>\n",
       "      <td>144632.320051</td>\n",
       "      <td>D6</td>\n",
       "      <td>7288</td>\n",
       "      <td>173</td>\n",
       "      <td>2.431483</td>\n",
       "      <td>144632.320916</td>\n",
       "      <td>144632.320916</td>\n",
       "      <td>1.085731e+09</td>\n",
       "      <td>POLYGON ((-94.67694 35.63827, -94.67976 35.638...</td>\n",
       "      <td>POINT (-94.62803 35.48360)</td>\n",
       "      <td>35.483602</td>\n",
       "      <td>-94.628028</td>\n",
       "    </tr>\n",
       "  </tbody>\n",
       "</table>\n",
       "</div>"
      ],
      "text/plain": [
       "   OBJECTID_12  OBJECTID_1  OBJECTID  DIST_ID DIST_NAME     SHAPE_Leng  \\\n",
       "2            3           3        32       11       D11  373840.835552   \n",
       "3            4           4        45        1        D1  369618.418165   \n",
       "4            5           5        47        3        D3  312903.103410   \n",
       "5            6           6        50        5        D5  357817.580159   \n",
       "6            7           7        51        6        D6  144632.320051   \n",
       "\n",
       "  District  Count_1  DX_DEV  Count_1_DV     Shape_Le_1   Shape_Length  \\\n",
       "2      D11     6466    -649   -9.121574  373840.836130  373840.836130   \n",
       "3       D1     6776    -339   -4.764582  369618.417535  369618.417535   \n",
       "4       D3     6553    -562   -7.898805  312903.102910  312903.102910   \n",
       "5       D5     7731     616    8.657765  357817.580680  357817.580680   \n",
       "6       D6     7288     173    2.431483  144632.320916  144632.320916   \n",
       "\n",
       "     Shape_Area                                           geometry  \\\n",
       "2  2.948319e+09  POLYGON ((-95.71087 36.99927, -95.72827 36.999...   \n",
       "3  7.072252e+08  MULTIPOLYGON (((-95.09199 36.07559, -95.09315 ...   \n",
       "4  7.592667e+08  MULTIPOLYGON (((-94.91401 35.91591, -94.91399 ...   \n",
       "5  9.991490e+08  MULTIPOLYGON (((-95.12727 35.73064, -95.12732 ...   \n",
       "6  1.085731e+09  POLYGON ((-94.67694 35.63827, -94.67976 35.638...   \n",
       "\n",
       "               coord_location        lat        lon  \n",
       "2  POINT (-95.29626 36.75037)  36.750366 -95.296260  \n",
       "3  POINT (-95.17455 35.94851)  35.948505 -95.174549  \n",
       "4  POINT (-94.96339 35.76739)  35.767392 -94.963389  \n",
       "5  POINT (-95.02385 35.53974)  35.539736 -95.023850  \n",
       "6  POINT (-94.62803 35.48360)  35.483602 -94.628028  "
      ]
     },
     "execution_count": 21,
     "metadata": {},
     "output_type": "execute_result"
    }
   ],
   "source": [
    "cn_districts[cn_districts['District'].str.startswith('D')].head()"
   ]
  },
  {
   "cell_type": "code",
   "execution_count": 32,
   "metadata": {},
   "outputs": [
    {
     "name": "stdout",
     "output_type": "stream",
     "text": [
      "D11 Q122984820\n",
      "D1 Q122984821\n",
      "D3 Q122984822\n",
      "D5 Q122984823\n",
      "D6 Q122984824\n",
      "D12 Q122984825\n",
      "D13 Q122984826\n",
      "D14 Q122984827\n",
      "D4 Q122984828\n",
      "D2 Q122984829\n",
      "D10 Q122984830\n",
      "D9 Q122984832\n",
      "D15 Q122984833\n",
      "D7 Q122984834\n",
      "D8 Q122984835\n"
     ]
    }
   ],
   "source": [
    "# Use the CN Constitution as a reference for instantiation and jurisdiction claims\n",
    "cn_const_ref = Item(\n",
    "    prop_nr='P248',\n",
    "    value='Q122945957'\n",
    ")\n",
    "\n",
    "for index, row in cn_districts[cn_districts['District'].str.startswith('D')].iterrows():\n",
    "    item = wbi.item.new()\n",
    "    item.labels.set('en', f\"Cherokee Nation Tribal Council District {row['DIST_ID']}\")\n",
    "    # Set the basic district identifier as an alias to work within this classification context\n",
    "    item.aliases.set('en', row['District'])\n",
    "    item.descriptions.set('en', 'a district of the Cherokee Nation Tribal Council located on the Cherokee Nation Reservation')\n",
    "\n",
    "    # instance of = Cherokee Nation Tribal Council District\n",
    "    item.claims.add(\n",
    "        Item(\n",
    "            prop_nr='P31',\n",
    "            value=instance_of_item,\n",
    "            references=[cn_const_ref]\n",
    "        )\n",
    "    )\n",
    "\n",
    "    # country = USA\n",
    "    item.claims.add(\n",
    "        Item(\n",
    "            prop_nr='P17',\n",
    "            value='Q30'\n",
    "        )\n",
    "    )\n",
    "\n",
    "    # located in the administrative territorial entity = Cherokee Nation\n",
    "    item.claims.add(\n",
    "        Item(\n",
    "            prop_nr='P131',\n",
    "            value='Q14708404',\n",
    "            references=[cn_const_ref]\n",
    "        )   \n",
    "    )\n",
    "\n",
    "    # coordinate location = (lat, lon)\n",
    "    item.claims.add(\n",
    "        GlobeCoordinate(\n",
    "            prop_nr='P625',\n",
    "            latitude=row['lat'],\n",
    "            longitude=row['lon']\n",
    "        )\n",
    "    )\n",
    "\n",
    "    # Add links to municipalities in district\n",
    "    significant_places_claims = []\n",
    "    for town_id in towns_in_districts[towns_in_districts['District'] == row['District']]['item'].iloc[0]:\n",
    "        significant_places_claims.append(\n",
    "            Item(\n",
    "                prop_nr='P7153',\n",
    "                value=town_id\n",
    "            )\n",
    "        )\n",
    "    item.claims.add(significant_places_claims)\n",
    "\n",
    "    # Write the item to Wikidata\n",
    "    response = item.write(\n",
    "        summary='Added item representing a Cherokee Nation Tribal Council District'\n",
    "    )\n",
    "    print(row['District'], response.id)"
   ]
  },
  {
   "cell_type": "markdown",
   "metadata": {},
   "source": [
    "### Significant Place Qualifiers\n",
    "After running through to add the districts, I found that the significant place claim is constrained to require a qualifier indicating the role that the place plays with regard to the subject item. I opted to use the concept of a [population center](https://www.wikidata.org/entity/Q852031) as the object of this qualifier as this seems to make the most sense in this context. It would actualy be interesting to experiment with this over time as we could add more sophistication here in terms of the roles that various townships play in the District.\n",
    "\n",
    "The following codeblock runs back through the items created starting with a SPARQL query and replaces the significant place claims with properly qualified claims."
   ]
  },
  {
   "cell_type": "code",
   "execution_count": 38,
   "metadata": {},
   "outputs": [],
   "source": [
    "# Query for all newly created district items\n",
    "query_districts = f\"\"\"\n",
    "SELECT ?item\n",
    "WHERE {{\n",
    "  ?item wdt:P31 wd:{instance_of_item} .\n",
    "}}\n",
    "\"\"\"\n",
    "\n",
    "r_districts = requests.get(\n",
    "    'https://query.wikidata.org/sparql',\n",
    "    params = {'format': 'json', 'query': query_districts}\n",
    ")\n",
    "\n",
    "district_items = [i['item']['value'].split('/')[-1] for i in r_districts.json()['results']['bindings']]"
   ]
  },
  {
   "cell_type": "code",
   "execution_count": 45,
   "metadata": {},
   "outputs": [
    {
     "name": "stdout",
     "output_type": "stream",
     "text": [
      "Q122984820\n",
      "Q122984821\n",
      "Q122984822\n",
      "Q122984823\n",
      "Q122984824\n",
      "Q122984825\n",
      "Q122984826\n",
      "Q122984827\n",
      "Q122984828\n",
      "Q122984829\n",
      "Q122984830\n",
      "Q122984832\n",
      "Q122984833\n",
      "Q122984834\n",
      "Q122984835\n"
     ]
    }
   ],
   "source": [
    "from wikibaseintegrator.wbi_enums import ActionIfExists\n",
    "\n",
    "# center of population qualifier\n",
    "place_qualifier = Item(\n",
    "    prop_nr='P3831',\n",
    "    value='Q852031'\n",
    ")\n",
    "\n",
    "for district_wd_id in district_items:\n",
    "    item = wbi.item.get(district_wd_id)\n",
    "    place_claims = item.claims.get('P7153')\n",
    "\n",
    "    significant_place_claims = []\n",
    "    for c in place_claims:\n",
    "        significant_place_claims.append(\n",
    "            Item(\n",
    "                prop_nr='P7153',\n",
    "                value=c.mainsnak.datavalue['value']['id'],\n",
    "                qualifiers=[place_qualifier]\n",
    "            )\n",
    "        )\n",
    "    item.claims.add(significant_place_claims, action_if_exists=ActionIfExists.REPLACE_ALL)\n",
    "\n",
    "    response = item.write(\n",
    "        summary='Added center of population qualifier to significant places'\n",
    "    )\n",
    "    print(response.id)\n"
   ]
  }
 ],
 "metadata": {
  "kernelspec": {
   "display_name": "icd",
   "language": "python",
   "name": "python3"
  },
  "language_info": {
   "codemirror_mode": {
    "name": "ipython",
    "version": 3
   },
   "file_extension": ".py",
   "mimetype": "text/x-python",
   "name": "python",
   "nbconvert_exporter": "python",
   "pygments_lexer": "ipython3",
   "version": "3.11.4"
  },
  "orig_nbformat": 4
 },
 "nbformat": 4,
 "nbformat_minor": 2
}
